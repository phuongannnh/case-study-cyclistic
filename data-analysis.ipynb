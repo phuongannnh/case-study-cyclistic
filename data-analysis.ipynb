{
 "cells": [
  {
   "cell_type": "code",
   "execution_count": 2,
   "metadata": {},
   "outputs": [],
   "source": [
    "import os\n",
    "import pandas as pd\n",
    "\n",
    "# Directory where your CSV files are located\n",
    "data_dir = 'datasets/csv-files/'\n",
    "\n",
    "# List to hold all DataFrame objects for each file\n",
    "df_list = []\n",
    "\n",
    "# Loop through each file and load into DataFrame\n",
    "for file_name in os.listdir(data_dir):\n",
    "    if file_name.endswith('.csv'):\n",
    "        file_path = os.path.join(data_dir, file_name)\n",
    "        df_month = pd.read_csv(file_path)\n",
    "        df_list.append(df_month)\n",
    "\n",
    "# Concatenate all DataFrames into a single DataFrame\n",
    "df = pd.concat(df_list, ignore_index=True)\n"
   ]
  }
 ],
 "metadata": {
  "kernelspec": {
   "display_name": "Python 3",
   "language": "python",
   "name": "python3"
  },
  "language_info": {
   "codemirror_mode": {
    "name": "ipython",
    "version": 3
   },
   "file_extension": ".py",
   "mimetype": "text/x-python",
   "name": "python",
   "nbconvert_exporter": "python",
   "pygments_lexer": "ipython3",
   "version": "3.8.10"
  }
 },
 "nbformat": 4,
 "nbformat_minor": 2
}
